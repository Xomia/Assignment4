{
 "cells": [
  {
   "cell_type": "code",
   "execution_count": 1,
   "id": "34e1c913",
   "metadata": {},
   "outputs": [
    {
     "name": "stdout",
     "output_type": "stream",
     "text": [
      "Select operation you want ro perform.\n",
      "1. Addition\n",
      "2. Subtraction\n",
      "3. Multiplication\n",
      "4. Division\n",
      "5. Power\n",
      "Enter choice(1. Addition/2. Subtraction/3. Multiplication/4. Division/5. Power): 2\n",
      "Enter 1st number: 40\n",
      "Enter 2nd number: 6\n",
      "40.0 - 6.0 = 34.0\n",
      "Do you want to perform more calculation? (yes/no): yes\n",
      "Enter choice(1. Addition/2. Subtraction/3. Multiplication/4. Division/5. Power): 5\n",
      "Enter 1st number: 2\n",
      "Enter 2nd number: 3\n",
      "2.0 ^ 3.0 = 8.0\n",
      "Do you want to perform more calculation? (yes/no): no\n"
     ]
    }
   ],
   "source": [
    "\"\"\"Q#1 : Make a Calculator using python with addition, subtraction, multiplication, division and power\"\"\"\n",
    "\n",
    "def add(a,b):\n",
    "    return(a+b)\n",
    "def subtract(a,b):\n",
    "    return (a-b)\n",
    "def division(a,b):\n",
    "    return(a/b)\n",
    "def multiply(a,b):\n",
    "    return (a*b)\n",
    "def power(a,b):\n",
    "    return(a**b)\n",
    "\n",
    "print(\"Select operation you want ro perform.\")\n",
    "print(\"1. Addition\")\n",
    "print(\"2. Subtraction\")\n",
    "print(\"3. Multiplication\")\n",
    "print(\"4. Division\")\n",
    "print(\"5. Power\")\n",
    "\n",
    "while True:\n",
    "    choice = input(\"Enter choice(1. Addition/2. Subtraction/3. Multiplication/4. Division/5. Power): \")\n",
    "\n",
    "    if choice in ('1', '2', '3', '4','5'):\n",
    "        num1 = float(input(\"Enter 1st number: \"))\n",
    "        num2 = float(input(\"Enter 2nd number: \"))\n",
    "\n",
    "        if choice == '1':\n",
    "            print(num1, \"+\", num2, \"=\", add(num1, num2))\n",
    "        elif choice == '2':\n",
    "            print(num1, \"-\", num2, \"=\", subtract(num1, num2))\n",
    "        elif choice == '3':\n",
    "            print(num1, \"*\", num2, \"=\", multiply(num1, num2))\n",
    "        elif choice == '4':\n",
    "            print(num1, \"/\", num2, \"=\", division(num1, num2))\n",
    "        elif choice == '5':\n",
    "            print(num1, \"^\", num2, \"=\", power(num1, num2))\n",
    "    \n",
    "        next_calculation = input(\"Do you want to perform more calculation? (yes/no): \")\n",
    "        if next_calculation != \"yes\":\n",
    "          break\n",
    "    \n",
    "    else:\n",
    "        print(\"Invalid Input\")"
   ]
  },
  {
   "cell_type": "code",
   "execution_count": 29,
   "id": "3db4e2b0",
   "metadata": {},
   "outputs": [
    {
     "name": "stdout",
     "output_type": "stream",
     "text": [
      "1 is an integer in the list\n",
      "3 is an integer in the list\n",
      "9 is an integer in the list\n",
      "10 is an integer in the list\n"
     ]
    }
   ],
   "source": [
    "#  \"\"\"Q#2 Write a program to check if any numeric value in list using for loop\"\"\"\n",
    "list=[1,3,7.5,9,10,11.5]\n",
    "for i in list:\n",
    "     if i== int(i):\n",
    "        print(str(i) + \" is an integer in the list\")\n",
    "    "
   ]
  },
  {
   "cell_type": "code",
   "execution_count": 2,
   "id": "760eeacb",
   "metadata": {},
   "outputs": [
    {
     "name": "stdout",
     "output_type": "stream",
     "text": [
      "Enter a key you want to enter in your dictionaryqualification\n",
      "Enter a value corresponding to the key you want to enter in your dictionaryMSC\n",
      "{'name': 'Somia', 'gender': 'female', 'age': '25', 'city': 'Islamabad', 'qualification': 'MSC'}\n",
      "Do you want to add more values in dictionary (Y/N): n\n"
     ]
    }
   ],
   "source": [
    "#\"\"\"\"Q#3 Python script to add a key into a dictionary\"\"\"\"\n",
    "dict={ 'name': 'Somia', 'gender':'female', 'age':'25', 'city':'Islamabad'}\n",
    "while True:\n",
    "    key=input(\"Enter a key you want to enter in your dictionary\")\n",
    "    value=input(\"Enter a value corresponding to the key you want to enter in your dictionary\")\n",
    "    dict[key]=value\n",
    "    print(dict)\n",
    "    choice=input(\"Do you want to add more values in dictionary (Y/N): \")\n",
    "    if(choice!= 'y'):\n",
    "        break"
   ]
  },
  {
   "cell_type": "code",
   "execution_count": 4,
   "id": "628a808f",
   "metadata": {},
   "outputs": [
    {
     "name": "stdout",
     "output_type": "stream",
     "text": [
      "Sum of all numeric items in the dictionary  =  900\n"
     ]
    }
   ],
   "source": [
    "#\"\"\"\"Q#4 Python program to add all numeric values in a dictionary\"\"\"\"\n",
    "def sum_items(dict):\n",
    "     sum = 0\n",
    "     for i in dict.values():\n",
    "           sum = sum + i  \n",
    "     return sum\n",
    " \n",
    "dict = {'a': 10, 'b':90, 'c':100, 'd':200, 'e': 500}\n",
    "print(\"Sum of all numeric items in the dictionary  = \", sum_items(dict))\n"
   ]
  },
  {
   "cell_type": "code",
   "execution_count": 7,
   "id": "ef6a37b6",
   "metadata": {},
   "outputs": [
    {
     "name": "stdout",
     "output_type": "stream",
     "text": [
      "[1, 2, 3, 4, 5, 6, 9, 7, 8, 'a', 'b']\n"
     ]
    }
   ],
   "source": [
    "#\"\"\"\"Q#5 Python program to identify duplicate value in the list\"\"\"\n",
    "list=[1,2,3,4,5,4,6,9,7,8,7,9,'a','b','a']\n",
    "list2=[]\n",
    "for i in list:\n",
    "    if i not in list2:\n",
    "        list2.append(i)\n",
    "print(list2)\n",
    "            \n",
    "        "
   ]
  },
  {
   "cell_type": "code",
   "execution_count": 13,
   "id": "7459d043",
   "metadata": {},
   "outputs": [
    {
     "name": "stdout",
     "output_type": "stream",
     "text": [
      "Enter a keyname\n",
      "name Key already exist in the dictionary as name : Somia\n"
     ]
    }
   ],
   "source": [
    "\"\"\"Q#6 Write a python script to check if the given key is already exist in the dictionary \"\"\"\n",
    "\n",
    "dict={ 'name': 'Somia', 'gender':'female', 'age':'25', 'city':'Islamabad'}\n",
    "key=input(\"Enter a key\")\n",
    "for i,j in dict.items():\n",
    "    if(i==key):\n",
    "        print(str(key)+ \" Key already exist in the dictionary as \" + i + \" : \"+ j)\n"
   ]
  },
  {
   "cell_type": "code",
   "execution_count": null,
   "id": "52d04b1e",
   "metadata": {},
   "outputs": [],
   "source": []
  }
 ],
 "metadata": {
  "kernelspec": {
   "display_name": "Python 3",
   "language": "python",
   "name": "python3"
  },
  "language_info": {
   "codemirror_mode": {
    "name": "ipython",
    "version": 3
   },
   "file_extension": ".py",
   "mimetype": "text/x-python",
   "name": "python",
   "nbconvert_exporter": "python",
   "pygments_lexer": "ipython3",
   "version": "3.8.8"
  }
 },
 "nbformat": 4,
 "nbformat_minor": 5
}
